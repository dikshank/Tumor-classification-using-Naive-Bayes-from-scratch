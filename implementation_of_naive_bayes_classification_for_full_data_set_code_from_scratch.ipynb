{
 "cells": [
  {
   "cell_type": "code",
   "execution_count": 1,
   "metadata": {
    "id": "FcQxNHAxuqLl"
   },
   "outputs": [],
   "source": [
    "import pandas as pd\n",
    "import numpy as np\n",
    "import scipy.stats as s\n",
    "import matplotlib.pyplot as plt\n",
    "import seaborn as sns"
   ]
  },
  {
   "cell_type": "code",
   "execution_count": 2,
   "metadata": {
    "id": "zvgZMvBgu-Jn"
   },
   "outputs": [],
   "source": [
    "data = pd.read_csv(\"data.csv\")"
   ]
  },
  {
   "cell_type": "code",
   "execution_count": 3,
   "metadata": {
    "colab": {
     "base_uri": "https://localhost:8080/",
     "height": 241
    },
    "id": "By0rsJgevFTe",
    "outputId": "2b89de04-d134-4cde-e8ee-a05c99edfef7"
   },
   "outputs": [
    {
     "data": {
      "text/html": [
       "<div>\n",
       "<style scoped>\n",
       "    .dataframe tbody tr th:only-of-type {\n",
       "        vertical-align: middle;\n",
       "    }\n",
       "\n",
       "    .dataframe tbody tr th {\n",
       "        vertical-align: top;\n",
       "    }\n",
       "\n",
       "    .dataframe thead th {\n",
       "        text-align: right;\n",
       "    }\n",
       "</style>\n",
       "<table border=\"1\" class=\"dataframe\">\n",
       "  <thead>\n",
       "    <tr style=\"text-align: right;\">\n",
       "      <th></th>\n",
       "      <th>id</th>\n",
       "      <th>diagnosis</th>\n",
       "      <th>radius_mean</th>\n",
       "      <th>texture_mean</th>\n",
       "      <th>perimeter_mean</th>\n",
       "      <th>area_mean</th>\n",
       "      <th>smoothness_mean</th>\n",
       "      <th>compactness_mean</th>\n",
       "      <th>concavity_mean</th>\n",
       "      <th>concave points_mean</th>\n",
       "      <th>...</th>\n",
       "      <th>texture_worst</th>\n",
       "      <th>perimeter_worst</th>\n",
       "      <th>area_worst</th>\n",
       "      <th>smoothness_worst</th>\n",
       "      <th>compactness_worst</th>\n",
       "      <th>concavity_worst</th>\n",
       "      <th>concave points_worst</th>\n",
       "      <th>symmetry_worst</th>\n",
       "      <th>fractal_dimension_worst</th>\n",
       "      <th>Unnamed: 32</th>\n",
       "    </tr>\n",
       "  </thead>\n",
       "  <tbody>\n",
       "    <tr>\n",
       "      <td>0</td>\n",
       "      <td>842302</td>\n",
       "      <td>M</td>\n",
       "      <td>17.99</td>\n",
       "      <td>10.38</td>\n",
       "      <td>122.80</td>\n",
       "      <td>1001.0</td>\n",
       "      <td>0.11840</td>\n",
       "      <td>0.27760</td>\n",
       "      <td>0.3001</td>\n",
       "      <td>0.14710</td>\n",
       "      <td>...</td>\n",
       "      <td>17.33</td>\n",
       "      <td>184.60</td>\n",
       "      <td>2019.0</td>\n",
       "      <td>0.1622</td>\n",
       "      <td>0.6656</td>\n",
       "      <td>0.7119</td>\n",
       "      <td>0.2654</td>\n",
       "      <td>0.4601</td>\n",
       "      <td>0.11890</td>\n",
       "      <td>NaN</td>\n",
       "    </tr>\n",
       "    <tr>\n",
       "      <td>1</td>\n",
       "      <td>842517</td>\n",
       "      <td>M</td>\n",
       "      <td>20.57</td>\n",
       "      <td>17.77</td>\n",
       "      <td>132.90</td>\n",
       "      <td>1326.0</td>\n",
       "      <td>0.08474</td>\n",
       "      <td>0.07864</td>\n",
       "      <td>0.0869</td>\n",
       "      <td>0.07017</td>\n",
       "      <td>...</td>\n",
       "      <td>23.41</td>\n",
       "      <td>158.80</td>\n",
       "      <td>1956.0</td>\n",
       "      <td>0.1238</td>\n",
       "      <td>0.1866</td>\n",
       "      <td>0.2416</td>\n",
       "      <td>0.1860</td>\n",
       "      <td>0.2750</td>\n",
       "      <td>0.08902</td>\n",
       "      <td>NaN</td>\n",
       "    </tr>\n",
       "    <tr>\n",
       "      <td>2</td>\n",
       "      <td>84300903</td>\n",
       "      <td>M</td>\n",
       "      <td>19.69</td>\n",
       "      <td>21.25</td>\n",
       "      <td>130.00</td>\n",
       "      <td>1203.0</td>\n",
       "      <td>0.10960</td>\n",
       "      <td>0.15990</td>\n",
       "      <td>0.1974</td>\n",
       "      <td>0.12790</td>\n",
       "      <td>...</td>\n",
       "      <td>25.53</td>\n",
       "      <td>152.50</td>\n",
       "      <td>1709.0</td>\n",
       "      <td>0.1444</td>\n",
       "      <td>0.4245</td>\n",
       "      <td>0.4504</td>\n",
       "      <td>0.2430</td>\n",
       "      <td>0.3613</td>\n",
       "      <td>0.08758</td>\n",
       "      <td>NaN</td>\n",
       "    </tr>\n",
       "    <tr>\n",
       "      <td>3</td>\n",
       "      <td>84348301</td>\n",
       "      <td>M</td>\n",
       "      <td>11.42</td>\n",
       "      <td>20.38</td>\n",
       "      <td>77.58</td>\n",
       "      <td>386.1</td>\n",
       "      <td>0.14250</td>\n",
       "      <td>0.28390</td>\n",
       "      <td>0.2414</td>\n",
       "      <td>0.10520</td>\n",
       "      <td>...</td>\n",
       "      <td>26.50</td>\n",
       "      <td>98.87</td>\n",
       "      <td>567.7</td>\n",
       "      <td>0.2098</td>\n",
       "      <td>0.8663</td>\n",
       "      <td>0.6869</td>\n",
       "      <td>0.2575</td>\n",
       "      <td>0.6638</td>\n",
       "      <td>0.17300</td>\n",
       "      <td>NaN</td>\n",
       "    </tr>\n",
       "    <tr>\n",
       "      <td>4</td>\n",
       "      <td>84358402</td>\n",
       "      <td>M</td>\n",
       "      <td>20.29</td>\n",
       "      <td>14.34</td>\n",
       "      <td>135.10</td>\n",
       "      <td>1297.0</td>\n",
       "      <td>0.10030</td>\n",
       "      <td>0.13280</td>\n",
       "      <td>0.1980</td>\n",
       "      <td>0.10430</td>\n",
       "      <td>...</td>\n",
       "      <td>16.67</td>\n",
       "      <td>152.20</td>\n",
       "      <td>1575.0</td>\n",
       "      <td>0.1374</td>\n",
       "      <td>0.2050</td>\n",
       "      <td>0.4000</td>\n",
       "      <td>0.1625</td>\n",
       "      <td>0.2364</td>\n",
       "      <td>0.07678</td>\n",
       "      <td>NaN</td>\n",
       "    </tr>\n",
       "  </tbody>\n",
       "</table>\n",
       "<p>5 rows × 33 columns</p>\n",
       "</div>"
      ],
      "text/plain": [
       "         id diagnosis  radius_mean  texture_mean  perimeter_mean  area_mean  \\\n",
       "0    842302         M        17.99         10.38          122.80     1001.0   \n",
       "1    842517         M        20.57         17.77          132.90     1326.0   \n",
       "2  84300903         M        19.69         21.25          130.00     1203.0   \n",
       "3  84348301         M        11.42         20.38           77.58      386.1   \n",
       "4  84358402         M        20.29         14.34          135.10     1297.0   \n",
       "\n",
       "   smoothness_mean  compactness_mean  concavity_mean  concave points_mean  \\\n",
       "0          0.11840           0.27760          0.3001              0.14710   \n",
       "1          0.08474           0.07864          0.0869              0.07017   \n",
       "2          0.10960           0.15990          0.1974              0.12790   \n",
       "3          0.14250           0.28390          0.2414              0.10520   \n",
       "4          0.10030           0.13280          0.1980              0.10430   \n",
       "\n",
       "   ...  texture_worst  perimeter_worst  area_worst  smoothness_worst  \\\n",
       "0  ...          17.33           184.60      2019.0            0.1622   \n",
       "1  ...          23.41           158.80      1956.0            0.1238   \n",
       "2  ...          25.53           152.50      1709.0            0.1444   \n",
       "3  ...          26.50            98.87       567.7            0.2098   \n",
       "4  ...          16.67           152.20      1575.0            0.1374   \n",
       "\n",
       "   compactness_worst  concavity_worst  concave points_worst  symmetry_worst  \\\n",
       "0             0.6656           0.7119                0.2654          0.4601   \n",
       "1             0.1866           0.2416                0.1860          0.2750   \n",
       "2             0.4245           0.4504                0.2430          0.3613   \n",
       "3             0.8663           0.6869                0.2575          0.6638   \n",
       "4             0.2050           0.4000                0.1625          0.2364   \n",
       "\n",
       "   fractal_dimension_worst  Unnamed: 32  \n",
       "0                  0.11890          NaN  \n",
       "1                  0.08902          NaN  \n",
       "2                  0.08758          NaN  \n",
       "3                  0.17300          NaN  \n",
       "4                  0.07678          NaN  \n",
       "\n",
       "[5 rows x 33 columns]"
      ]
     },
     "execution_count": 3,
     "metadata": {},
     "output_type": "execute_result"
    }
   ],
   "source": [
    "data.head()"
   ]
  },
  {
   "cell_type": "code",
   "execution_count": 4,
   "metadata": {
    "colab": {
     "base_uri": "https://localhost:8080/"
    },
    "id": "wtH7wRp_vGum",
    "outputId": "acfbc465-d1f7-40ec-d0d7-ee235b0a560e"
   },
   "outputs": [
    {
     "data": {
      "text/plain": [
       "Index(['id', 'diagnosis', 'radius_mean', 'texture_mean', 'perimeter_mean',\n",
       "       'area_mean', 'smoothness_mean', 'compactness_mean', 'concavity_mean',\n",
       "       'concave points_mean', 'symmetry_mean', 'fractal_dimension_mean',\n",
       "       'radius_se', 'texture_se', 'perimeter_se', 'area_se', 'smoothness_se',\n",
       "       'compactness_se', 'concavity_se', 'concave points_se', 'symmetry_se',\n",
       "       'fractal_dimension_se', 'radius_worst', 'texture_worst',\n",
       "       'perimeter_worst', 'area_worst', 'smoothness_worst',\n",
       "       'compactness_worst', 'concavity_worst', 'concave points_worst',\n",
       "       'symmetry_worst', 'fractal_dimension_worst', 'Unnamed: 32'],\n",
       "      dtype='object')"
      ]
     },
     "execution_count": 4,
     "metadata": {},
     "output_type": "execute_result"
    }
   ],
   "source": [
    "data.columns"
   ]
  },
  {
   "cell_type": "code",
   "execution_count": 5,
   "metadata": {
    "id": "UWxAqDfavYSw"
   },
   "outputs": [],
   "source": [
    "data.drop([data.columns[0],data.columns[32]],axis=1,inplace=True)"
   ]
  },
  {
   "cell_type": "code",
   "execution_count": 6,
   "metadata": {
    "colab": {
     "base_uri": "https://localhost:8080/",
     "height": 241
    },
    "id": "9M75SjkfvlD0",
    "outputId": "316bc67c-4391-4343-be88-872cd7090794"
   },
   "outputs": [
    {
     "data": {
      "text/html": [
       "<div>\n",
       "<style scoped>\n",
       "    .dataframe tbody tr th:only-of-type {\n",
       "        vertical-align: middle;\n",
       "    }\n",
       "\n",
       "    .dataframe tbody tr th {\n",
       "        vertical-align: top;\n",
       "    }\n",
       "\n",
       "    .dataframe thead th {\n",
       "        text-align: right;\n",
       "    }\n",
       "</style>\n",
       "<table border=\"1\" class=\"dataframe\">\n",
       "  <thead>\n",
       "    <tr style=\"text-align: right;\">\n",
       "      <th></th>\n",
       "      <th>diagnosis</th>\n",
       "      <th>radius_mean</th>\n",
       "      <th>texture_mean</th>\n",
       "      <th>perimeter_mean</th>\n",
       "      <th>area_mean</th>\n",
       "      <th>smoothness_mean</th>\n",
       "      <th>compactness_mean</th>\n",
       "      <th>concavity_mean</th>\n",
       "      <th>concave points_mean</th>\n",
       "      <th>symmetry_mean</th>\n",
       "      <th>...</th>\n",
       "      <th>radius_worst</th>\n",
       "      <th>texture_worst</th>\n",
       "      <th>perimeter_worst</th>\n",
       "      <th>area_worst</th>\n",
       "      <th>smoothness_worst</th>\n",
       "      <th>compactness_worst</th>\n",
       "      <th>concavity_worst</th>\n",
       "      <th>concave points_worst</th>\n",
       "      <th>symmetry_worst</th>\n",
       "      <th>fractal_dimension_worst</th>\n",
       "    </tr>\n",
       "  </thead>\n",
       "  <tbody>\n",
       "    <tr>\n",
       "      <td>0</td>\n",
       "      <td>M</td>\n",
       "      <td>17.99</td>\n",
       "      <td>10.38</td>\n",
       "      <td>122.80</td>\n",
       "      <td>1001.0</td>\n",
       "      <td>0.11840</td>\n",
       "      <td>0.27760</td>\n",
       "      <td>0.3001</td>\n",
       "      <td>0.14710</td>\n",
       "      <td>0.2419</td>\n",
       "      <td>...</td>\n",
       "      <td>25.38</td>\n",
       "      <td>17.33</td>\n",
       "      <td>184.60</td>\n",
       "      <td>2019.0</td>\n",
       "      <td>0.1622</td>\n",
       "      <td>0.6656</td>\n",
       "      <td>0.7119</td>\n",
       "      <td>0.2654</td>\n",
       "      <td>0.4601</td>\n",
       "      <td>0.11890</td>\n",
       "    </tr>\n",
       "    <tr>\n",
       "      <td>1</td>\n",
       "      <td>M</td>\n",
       "      <td>20.57</td>\n",
       "      <td>17.77</td>\n",
       "      <td>132.90</td>\n",
       "      <td>1326.0</td>\n",
       "      <td>0.08474</td>\n",
       "      <td>0.07864</td>\n",
       "      <td>0.0869</td>\n",
       "      <td>0.07017</td>\n",
       "      <td>0.1812</td>\n",
       "      <td>...</td>\n",
       "      <td>24.99</td>\n",
       "      <td>23.41</td>\n",
       "      <td>158.80</td>\n",
       "      <td>1956.0</td>\n",
       "      <td>0.1238</td>\n",
       "      <td>0.1866</td>\n",
       "      <td>0.2416</td>\n",
       "      <td>0.1860</td>\n",
       "      <td>0.2750</td>\n",
       "      <td>0.08902</td>\n",
       "    </tr>\n",
       "    <tr>\n",
       "      <td>2</td>\n",
       "      <td>M</td>\n",
       "      <td>19.69</td>\n",
       "      <td>21.25</td>\n",
       "      <td>130.00</td>\n",
       "      <td>1203.0</td>\n",
       "      <td>0.10960</td>\n",
       "      <td>0.15990</td>\n",
       "      <td>0.1974</td>\n",
       "      <td>0.12790</td>\n",
       "      <td>0.2069</td>\n",
       "      <td>...</td>\n",
       "      <td>23.57</td>\n",
       "      <td>25.53</td>\n",
       "      <td>152.50</td>\n",
       "      <td>1709.0</td>\n",
       "      <td>0.1444</td>\n",
       "      <td>0.4245</td>\n",
       "      <td>0.4504</td>\n",
       "      <td>0.2430</td>\n",
       "      <td>0.3613</td>\n",
       "      <td>0.08758</td>\n",
       "    </tr>\n",
       "    <tr>\n",
       "      <td>3</td>\n",
       "      <td>M</td>\n",
       "      <td>11.42</td>\n",
       "      <td>20.38</td>\n",
       "      <td>77.58</td>\n",
       "      <td>386.1</td>\n",
       "      <td>0.14250</td>\n",
       "      <td>0.28390</td>\n",
       "      <td>0.2414</td>\n",
       "      <td>0.10520</td>\n",
       "      <td>0.2597</td>\n",
       "      <td>...</td>\n",
       "      <td>14.91</td>\n",
       "      <td>26.50</td>\n",
       "      <td>98.87</td>\n",
       "      <td>567.7</td>\n",
       "      <td>0.2098</td>\n",
       "      <td>0.8663</td>\n",
       "      <td>0.6869</td>\n",
       "      <td>0.2575</td>\n",
       "      <td>0.6638</td>\n",
       "      <td>0.17300</td>\n",
       "    </tr>\n",
       "    <tr>\n",
       "      <td>4</td>\n",
       "      <td>M</td>\n",
       "      <td>20.29</td>\n",
       "      <td>14.34</td>\n",
       "      <td>135.10</td>\n",
       "      <td>1297.0</td>\n",
       "      <td>0.10030</td>\n",
       "      <td>0.13280</td>\n",
       "      <td>0.1980</td>\n",
       "      <td>0.10430</td>\n",
       "      <td>0.1809</td>\n",
       "      <td>...</td>\n",
       "      <td>22.54</td>\n",
       "      <td>16.67</td>\n",
       "      <td>152.20</td>\n",
       "      <td>1575.0</td>\n",
       "      <td>0.1374</td>\n",
       "      <td>0.2050</td>\n",
       "      <td>0.4000</td>\n",
       "      <td>0.1625</td>\n",
       "      <td>0.2364</td>\n",
       "      <td>0.07678</td>\n",
       "    </tr>\n",
       "  </tbody>\n",
       "</table>\n",
       "<p>5 rows × 31 columns</p>\n",
       "</div>"
      ],
      "text/plain": [
       "  diagnosis  radius_mean  texture_mean  perimeter_mean  area_mean  \\\n",
       "0         M        17.99         10.38          122.80     1001.0   \n",
       "1         M        20.57         17.77          132.90     1326.0   \n",
       "2         M        19.69         21.25          130.00     1203.0   \n",
       "3         M        11.42         20.38           77.58      386.1   \n",
       "4         M        20.29         14.34          135.10     1297.0   \n",
       "\n",
       "   smoothness_mean  compactness_mean  concavity_mean  concave points_mean  \\\n",
       "0          0.11840           0.27760          0.3001              0.14710   \n",
       "1          0.08474           0.07864          0.0869              0.07017   \n",
       "2          0.10960           0.15990          0.1974              0.12790   \n",
       "3          0.14250           0.28390          0.2414              0.10520   \n",
       "4          0.10030           0.13280          0.1980              0.10430   \n",
       "\n",
       "   symmetry_mean  ...  radius_worst  texture_worst  perimeter_worst  \\\n",
       "0         0.2419  ...         25.38          17.33           184.60   \n",
       "1         0.1812  ...         24.99          23.41           158.80   \n",
       "2         0.2069  ...         23.57          25.53           152.50   \n",
       "3         0.2597  ...         14.91          26.50            98.87   \n",
       "4         0.1809  ...         22.54          16.67           152.20   \n",
       "\n",
       "   area_worst  smoothness_worst  compactness_worst  concavity_worst  \\\n",
       "0      2019.0            0.1622             0.6656           0.7119   \n",
       "1      1956.0            0.1238             0.1866           0.2416   \n",
       "2      1709.0            0.1444             0.4245           0.4504   \n",
       "3       567.7            0.2098             0.8663           0.6869   \n",
       "4      1575.0            0.1374             0.2050           0.4000   \n",
       "\n",
       "   concave points_worst  symmetry_worst  fractal_dimension_worst  \n",
       "0                0.2654          0.4601                  0.11890  \n",
       "1                0.1860          0.2750                  0.08902  \n",
       "2                0.2430          0.3613                  0.08758  \n",
       "3                0.2575          0.6638                  0.17300  \n",
       "4                0.1625          0.2364                  0.07678  \n",
       "\n",
       "[5 rows x 31 columns]"
      ]
     },
     "execution_count": 6,
     "metadata": {},
     "output_type": "execute_result"
    }
   ],
   "source": [
    "data.head()"
   ]
  },
  {
   "cell_type": "code",
   "execution_count": 7,
   "metadata": {
    "id": "SoBvN_6bWsKD"
   },
   "outputs": [],
   "source": [
    "labels = np.array(data['diagnosis']).reshape(data['diagnosis'].shape[0],1)"
   ]
  },
  {
   "cell_type": "code",
   "execution_count": 8,
   "metadata": {
    "colab": {
     "base_uri": "https://localhost:8080/"
    },
    "id": "w5q906Z2XE04",
    "outputId": "c87bd0d4-edba-470e-ad78-fb0423e42b46"
   },
   "outputs": [
    {
     "data": {
      "text/plain": [
       "(569, 30)"
      ]
     },
     "execution_count": 8,
     "metadata": {},
     "output_type": "execute_result"
    }
   ],
   "source": [
    "X = np.array(data.iloc[:,1:])\n",
    "X.shape"
   ]
  },
  {
   "cell_type": "code",
   "execution_count": 9,
   "metadata": {
    "id": "WXboms0Ha_-e"
   },
   "outputs": [],
   "source": [
    "mu = np.mean(X,axis=0)"
   ]
  },
  {
   "cell_type": "code",
   "execution_count": 10,
   "metadata": {
    "colab": {
     "base_uri": "https://localhost:8080/"
    },
    "id": "PqcY8tLWbGKo",
    "outputId": "9d15906d-4ba8-453f-da37-5f6d4355de9a"
   },
   "outputs": [
    {
     "data": {
      "text/plain": [
       "(30,)"
      ]
     },
     "execution_count": 10,
     "metadata": {},
     "output_type": "execute_result"
    }
   ],
   "source": [
    "mu.shape"
   ]
  },
  {
   "cell_type": "code",
   "execution_count": 11,
   "metadata": {
    "id": "YTDhIiDybGCb"
   },
   "outputs": [],
   "source": [
    "mu = mu.reshape(-1,mu.shape[0])"
   ]
  },
  {
   "cell_type": "code",
   "execution_count": 12,
   "metadata": {
    "colab": {
     "base_uri": "https://localhost:8080/"
    },
    "id": "woO8n_v1bGAe",
    "outputId": "d3f1dc21-9a66-48a1-98de-0dafc57b4bcc"
   },
   "outputs": [
    {
     "data": {
      "text/plain": [
       "(1, 30)"
      ]
     },
     "execution_count": 12,
     "metadata": {},
     "output_type": "execute_result"
    }
   ],
   "source": [
    "mu.shape"
   ]
  },
  {
   "cell_type": "code",
   "execution_count": 13,
   "metadata": {
    "id": "kVqH-E7oYw2p"
   },
   "outputs": [],
   "source": [
    "X_dash = X - mu"
   ]
  },
  {
   "cell_type": "code",
   "execution_count": 14,
   "metadata": {
    "colab": {
     "base_uri": "https://localhost:8080/"
    },
    "id": "NA7S-UPPcJtX",
    "outputId": "fc5f3a2b-87d7-4c16-ea04-d98a3fb167de"
   },
   "outputs": [
    {
     "data": {
      "text/plain": [
       "(569, 30)"
      ]
     },
     "execution_count": 14,
     "metadata": {},
     "output_type": "execute_result"
    }
   ],
   "source": [
    "X_dash.shape"
   ]
  },
  {
   "cell_type": "code",
   "execution_count": 15,
   "metadata": {
    "id": "KGPT893ocJrY"
   },
   "outputs": [],
   "source": [
    "#covariance matrix\n",
    "sigma_hat = (1/data.shape[0])*np.matmul(X_dash.T,X_dash)"
   ]
  },
  {
   "cell_type": "code",
   "execution_count": 16,
   "metadata": {
    "colab": {
     "base_uri": "https://localhost:8080/"
    },
    "id": "o7KHIVKEcJpO",
    "outputId": "e8744b4f-50ba-4f5f-84b3-318842798e27"
   },
   "outputs": [
    {
     "data": {
      "text/plain": [
       "(30, 30)"
      ]
     },
     "execution_count": 16,
     "metadata": {},
     "output_type": "execute_result"
    }
   ],
   "source": [
    "sigma_hat.shape   #shape of cov matrix should be (30 x 30)"
   ]
  },
  {
   "cell_type": "code",
   "execution_count": 17,
   "metadata": {
    "id": "IoFrUnzzcJmp"
   },
   "outputs": [],
   "source": [
    "# applying singular value decomposition on COV MATRIX"
   ]
  },
  {
   "cell_type": "code",
   "execution_count": 18,
   "metadata": {
    "id": "6CBdKB6McJk0"
   },
   "outputs": [],
   "source": [
    "sigma_hat_decompose = np.linalg.svd(sigma_hat)"
   ]
  },
  {
   "cell_type": "code",
   "execution_count": 19,
   "metadata": {
    "colab": {
     "base_uri": "https://localhost:8080/"
    },
    "id": "bo9jK2pqcJay",
    "outputId": "1c3862bb-8717-484b-9a06-a40460203cc3"
   },
   "outputs": [
    {
     "data": {
      "text/plain": [
       "3"
      ]
     },
     "execution_count": 19,
     "metadata": {},
     "output_type": "execute_result"
    }
   ],
   "source": [
    "len(sigma_hat_decompose)"
   ]
  },
  {
   "cell_type": "code",
   "execution_count": 20,
   "metadata": {
    "id": "OLhb4PMqdg-Y"
   },
   "outputs": [],
   "source": [
    "Q = sigma_hat_decompose[0]"
   ]
  },
  {
   "cell_type": "code",
   "execution_count": 21,
   "metadata": {
    "id": "sWJod7-rdg8U"
   },
   "outputs": [],
   "source": [
    "lmbda = sigma_hat_decompose[1]"
   ]
  },
  {
   "cell_type": "code",
   "execution_count": 22,
   "metadata": {
    "colab": {
     "base_uri": "https://localhost:8080/"
    },
    "id": "SM_kb1Hddg6O",
    "outputId": "bba3bc49-7ee5-406a-dc2b-9682bc1ca986"
   },
   "outputs": [
    {
     "data": {
      "text/plain": [
       "array([4.43002671e+05, 7.29725279e+03, 7.02596776e+02, 5.45526944e+01,\n",
       "       3.98199123e+01, 2.99930721e+00, 1.81213991e+00, 3.70813899e-01,\n",
       "       1.55240237e-01, 8.39134846e-02, 3.15534015e-02, 7.48418875e-03,\n",
       "       3.15610001e-03, 2.15770517e-03, 1.32420744e-03, 6.39144051e-04,\n",
       "       3.74224474e-04, 2.34756323e-04, 1.84259067e-04, 1.63891523e-04,\n",
       "       7.79729248e-05, 5.75099161e-05, 3.48559114e-05, 2.83453651e-05,\n",
       "       1.61179909e-05, 1.24682907e-05, 3.67401338e-06, 2.84289915e-06,\n",
       "       2.00139207e-06, 7.00763523e-07])"
      ]
     },
     "execution_count": 22,
     "metadata": {},
     "output_type": "execute_result"
    }
   ],
   "source": [
    "lmbda"
   ]
  },
  {
   "cell_type": "code",
   "execution_count": 23,
   "metadata": {
    "id": "uR0-K6mldg3W"
   },
   "outputs": [],
   "source": [
    "Q_tilda = Q[:,0:15]"
   ]
  },
  {
   "cell_type": "code",
   "execution_count": 24,
   "metadata": {
    "colab": {
     "base_uri": "https://localhost:8080/"
    },
    "id": "auOSn-Acdg0u",
    "outputId": "1ed79520-cf83-4575-ae31-de69542f2d58"
   },
   "outputs": [
    {
     "data": {
      "text/plain": [
       "(30, 15)"
      ]
     },
     "execution_count": 24,
     "metadata": {},
     "output_type": "execute_result"
    }
   ],
   "source": [
    "Q_tilda.shape"
   ]
  },
  {
   "cell_type": "code",
   "execution_count": 25,
   "metadata": {
    "id": "t5JM1Z7KdgyK"
   },
   "outputs": [],
   "source": [
    "X_new = np.matmul(X_dash,Q_tilda)"
   ]
  },
  {
   "cell_type": "code",
   "execution_count": 26,
   "metadata": {
    "colab": {
     "base_uri": "https://localhost:8080/"
    },
    "id": "xQjt3Y--dgv9",
    "outputId": "2264830b-2a4e-45df-c02f-e97dc95707fb"
   },
   "outputs": [
    {
     "data": {
      "text/plain": [
       "(569, 15)"
      ]
     },
     "execution_count": 26,
     "metadata": {},
     "output_type": "execute_result"
    }
   ],
   "source": [
    "X_new.shape"
   ]
  },
  {
   "cell_type": "code",
   "execution_count": 27,
   "metadata": {
    "id": "sE98h3UYdgtx"
   },
   "outputs": [],
   "source": [
    "new_data = pd.DataFrame(data=X_new)"
   ]
  },
  {
   "cell_type": "code",
   "execution_count": 28,
   "metadata": {
    "id": "3QOF4eB1dgqm"
   },
   "outputs": [],
   "source": [
    "new_data['diagnosis'] = labels"
   ]
  },
  {
   "cell_type": "code",
   "execution_count": 29,
   "metadata": {
    "colab": {
     "base_uri": "https://localhost:8080/",
     "height": 224
    },
    "id": "Zx7k2MjYdgoo",
    "outputId": "25a7eb0b-0dda-44a2-ff67-5ff97d4d0676"
   },
   "outputs": [
    {
     "data": {
      "text/html": [
       "<div>\n",
       "<style scoped>\n",
       "    .dataframe tbody tr th:only-of-type {\n",
       "        vertical-align: middle;\n",
       "    }\n",
       "\n",
       "    .dataframe tbody tr th {\n",
       "        vertical-align: top;\n",
       "    }\n",
       "\n",
       "    .dataframe thead th {\n",
       "        text-align: right;\n",
       "    }\n",
       "</style>\n",
       "<table border=\"1\" class=\"dataframe\">\n",
       "  <thead>\n",
       "    <tr style=\"text-align: right;\">\n",
       "      <th></th>\n",
       "      <th>0</th>\n",
       "      <th>1</th>\n",
       "      <th>2</th>\n",
       "      <th>3</th>\n",
       "      <th>4</th>\n",
       "      <th>5</th>\n",
       "      <th>6</th>\n",
       "      <th>7</th>\n",
       "      <th>8</th>\n",
       "      <th>9</th>\n",
       "      <th>10</th>\n",
       "      <th>11</th>\n",
       "      <th>12</th>\n",
       "      <th>13</th>\n",
       "      <th>14</th>\n",
       "      <th>diagnosis</th>\n",
       "    </tr>\n",
       "  </thead>\n",
       "  <tbody>\n",
       "    <tr>\n",
       "      <td>0</td>\n",
       "      <td>-1160.142574</td>\n",
       "      <td>-293.917544</td>\n",
       "      <td>48.578398</td>\n",
       "      <td>8.711975</td>\n",
       "      <td>32.000486</td>\n",
       "      <td>-1.265415</td>\n",
       "      <td>0.931337</td>\n",
       "      <td>-0.148167</td>\n",
       "      <td>-0.745463</td>\n",
       "      <td>0.589359</td>\n",
       "      <td>0.307804</td>\n",
       "      <td>-0.043452</td>\n",
       "      <td>0.034777</td>\n",
       "      <td>-0.065069</td>\n",
       "      <td>0.012934</td>\n",
       "      <td>M</td>\n",
       "    </tr>\n",
       "    <tr>\n",
       "      <td>1</td>\n",
       "      <td>-1269.122443</td>\n",
       "      <td>15.630182</td>\n",
       "      <td>-35.394534</td>\n",
       "      <td>-17.861283</td>\n",
       "      <td>-4.334874</td>\n",
       "      <td>0.225872</td>\n",
       "      <td>-0.046037</td>\n",
       "      <td>-0.200804</td>\n",
       "      <td>0.485828</td>\n",
       "      <td>-0.084035</td>\n",
       "      <td>-0.080642</td>\n",
       "      <td>-0.033042</td>\n",
       "      <td>0.045485</td>\n",
       "      <td>0.005534</td>\n",
       "      <td>-0.021368</td>\n",
       "      <td>M</td>\n",
       "    </tr>\n",
       "    <tr>\n",
       "      <td>2</td>\n",
       "      <td>-995.793889</td>\n",
       "      <td>39.156743</td>\n",
       "      <td>-1.709753</td>\n",
       "      <td>-4.199340</td>\n",
       "      <td>-0.466529</td>\n",
       "      <td>2.652811</td>\n",
       "      <td>-0.779745</td>\n",
       "      <td>0.274026</td>\n",
       "      <td>0.173874</td>\n",
       "      <td>-0.186994</td>\n",
       "      <td>-0.279174</td>\n",
       "      <td>0.020464</td>\n",
       "      <td>0.083505</td>\n",
       "      <td>-0.024824</td>\n",
       "      <td>0.026887</td>\n",
       "      <td>M</td>\n",
       "    </tr>\n",
       "    <tr>\n",
       "      <td>3</td>\n",
       "      <td>407.180803</td>\n",
       "      <td>-67.380320</td>\n",
       "      <td>8.672848</td>\n",
       "      <td>11.759867</td>\n",
       "      <td>7.115461</td>\n",
       "      <td>-1.299436</td>\n",
       "      <td>-1.267304</td>\n",
       "      <td>0.060555</td>\n",
       "      <td>0.330639</td>\n",
       "      <td>-0.144155</td>\n",
       "      <td>-0.927471</td>\n",
       "      <td>0.174720</td>\n",
       "      <td>0.282556</td>\n",
       "      <td>-0.080057</td>\n",
       "      <td>-0.043201</td>\n",
       "      <td>M</td>\n",
       "    </tr>\n",
       "    <tr>\n",
       "      <td>4</td>\n",
       "      <td>-930.341180</td>\n",
       "      <td>189.340742</td>\n",
       "      <td>1.374801</td>\n",
       "      <td>-8.499183</td>\n",
       "      <td>7.613289</td>\n",
       "      <td>-1.021160</td>\n",
       "      <td>-0.335522</td>\n",
       "      <td>-0.289109</td>\n",
       "      <td>-0.036087</td>\n",
       "      <td>-0.138502</td>\n",
       "      <td>-0.042228</td>\n",
       "      <td>0.062721</td>\n",
       "      <td>-0.114247</td>\n",
       "      <td>-0.002274</td>\n",
       "      <td>0.019548</td>\n",
       "      <td>M</td>\n",
       "    </tr>\n",
       "  </tbody>\n",
       "</table>\n",
       "</div>"
      ],
      "text/plain": [
       "             0           1          2          3          4         5  \\\n",
       "0 -1160.142574 -293.917544  48.578398   8.711975  32.000486 -1.265415   \n",
       "1 -1269.122443   15.630182 -35.394534 -17.861283  -4.334874  0.225872   \n",
       "2  -995.793889   39.156743  -1.709753  -4.199340  -0.466529  2.652811   \n",
       "3   407.180803  -67.380320   8.672848  11.759867   7.115461 -1.299436   \n",
       "4  -930.341180  189.340742   1.374801  -8.499183   7.613289 -1.021160   \n",
       "\n",
       "          6         7         8         9        10        11        12  \\\n",
       "0  0.931337 -0.148167 -0.745463  0.589359  0.307804 -0.043452  0.034777   \n",
       "1 -0.046037 -0.200804  0.485828 -0.084035 -0.080642 -0.033042  0.045485   \n",
       "2 -0.779745  0.274026  0.173874 -0.186994 -0.279174  0.020464  0.083505   \n",
       "3 -1.267304  0.060555  0.330639 -0.144155 -0.927471  0.174720  0.282556   \n",
       "4 -0.335522 -0.289109 -0.036087 -0.138502 -0.042228  0.062721 -0.114247   \n",
       "\n",
       "         13        14 diagnosis  \n",
       "0 -0.065069  0.012934         M  \n",
       "1  0.005534 -0.021368         M  \n",
       "2 -0.024824  0.026887         M  \n",
       "3 -0.080057 -0.043201         M  \n",
       "4 -0.002274  0.019548         M  "
      ]
     },
     "execution_count": 29,
     "metadata": {},
     "output_type": "execute_result"
    }
   ],
   "source": [
    "new_data.head()"
   ]
  },
  {
   "cell_type": "code",
   "execution_count": 30,
   "metadata": {
    "colab": {
     "base_uri": "https://localhost:8080/"
    },
    "id": "Z5Y_4dZrGM_W",
    "outputId": "58b7d90e-b1f5-4139-80b8-18ea19677f60"
   },
   "outputs": [
    {
     "data": {
      "text/plain": [
       "(569, 16)"
      ]
     },
     "execution_count": 30,
     "metadata": {},
     "output_type": "execute_result"
    }
   ],
   "source": [
    "new_data.shape"
   ]
  },
  {
   "cell_type": "code",
   "execution_count": 31,
   "metadata": {
    "colab": {
     "base_uri": "https://localhost:8080/"
    },
    "id": "PIaNCivvHRNz",
    "outputId": "485d5308-6161-4c60-fb88-d50ae0085a44"
   },
   "outputs": [
    {
     "data": {
      "text/plain": [
       "(357, 16)"
      ]
     },
     "execution_count": 31,
     "metadata": {},
     "output_type": "execute_result"
    }
   ],
   "source": [
    "new_data[new_data['diagnosis']=='B'].shape"
   ]
  },
  {
   "cell_type": "code",
   "execution_count": 32,
   "metadata": {
    "colab": {
     "base_uri": "https://localhost:8080/"
    },
    "id": "-8vFQYgmHkfk",
    "outputId": "189cbda7-3780-4364-e829-57be28c0b8bd"
   },
   "outputs": [
    {
     "data": {
      "text/plain": [
       "(212, 16)"
      ]
     },
     "execution_count": 32,
     "metadata": {},
     "output_type": "execute_result"
    }
   ],
   "source": [
    "new_data[new_data['diagnosis']=='M'].shape"
   ]
  },
  {
   "cell_type": "code",
   "execution_count": 33,
   "metadata": {
    "id": "blV7RcllHpCV"
   },
   "outputs": [],
   "source": [
    "training_data_len = int(0.7*data.shape[0])"
   ]
  },
  {
   "cell_type": "code",
   "execution_count": 34,
   "metadata": {
    "colab": {
     "base_uri": "https://localhost:8080/"
    },
    "id": "OiFv2XG_Ifn1",
    "outputId": "68b837f8-134d-4a55-d86f-a8156870d838"
   },
   "outputs": [
    {
     "data": {
      "text/plain": [
       "398"
      ]
     },
     "execution_count": 34,
     "metadata": {},
     "output_type": "execute_result"
    }
   ],
   "source": [
    "training_data_len"
   ]
  },
  {
   "cell_type": "code",
   "execution_count": 35,
   "metadata": {
    "id": "SXYeTJsPIh-T"
   },
   "outputs": [],
   "source": [
    "benign_training_data = new_data[new_data['diagnosis']=='B'].iloc[0:training_data_len//2]\n",
    "malignent_training_data = new_data[new_data['diagnosis']=='M'].iloc[0:training_data_len//2]"
   ]
  },
  {
   "cell_type": "code",
   "execution_count": 36,
   "metadata": {
    "colab": {
     "base_uri": "https://localhost:8080/"
    },
    "id": "j4zgNjoXJCzs",
    "outputId": "383beb97-6ad0-41cd-a2e4-dbda576562d2"
   },
   "outputs": [
    {
     "data": {
      "text/plain": [
       "(199, 16)"
      ]
     },
     "execution_count": 36,
     "metadata": {},
     "output_type": "execute_result"
    }
   ],
   "source": [
    "benign_training_data.shape"
   ]
  },
  {
   "cell_type": "code",
   "execution_count": 37,
   "metadata": {
    "colab": {
     "base_uri": "https://localhost:8080/"
    },
    "id": "iPHt2aniJTsc",
    "outputId": "b3af5aad-84f5-478a-ddc2-687f5561a636"
   },
   "outputs": [
    {
     "data": {
      "text/plain": [
       "(199, 16)"
      ]
     },
     "execution_count": 37,
     "metadata": {},
     "output_type": "execute_result"
    }
   ],
   "source": [
    "malignent_training_data.shape"
   ]
  },
  {
   "cell_type": "code",
   "execution_count": 38,
   "metadata": {
    "id": "S3c_V5yxJXpU"
   },
   "outputs": [],
   "source": [
    "training_data = pd.concat([benign_training_data,malignent_training_data])"
   ]
  },
  {
   "cell_type": "code",
   "execution_count": 39,
   "metadata": {
    "colab": {
     "base_uri": "https://localhost:8080/"
    },
    "id": "hb3xESd2J1pU",
    "outputId": "3c9d4812-c9e8-4cc3-840b-58476080b755"
   },
   "outputs": [
    {
     "data": {
      "text/plain": [
       "(398, 16)"
      ]
     },
     "execution_count": 39,
     "metadata": {},
     "output_type": "execute_result"
    }
   ],
   "source": [
    "training_data.shape"
   ]
  },
  {
   "cell_type": "code",
   "execution_count": 40,
   "metadata": {
    "colab": {
     "base_uri": "https://localhost:8080/",
     "height": 439
    },
    "id": "n7E4gMSZJ4fK",
    "outputId": "7731b7a9-c268-447e-f773-982fe9531d80"
   },
   "outputs": [
    {
     "data": {
      "text/html": [
       "<div>\n",
       "<style scoped>\n",
       "    .dataframe tbody tr th:only-of-type {\n",
       "        vertical-align: middle;\n",
       "    }\n",
       "\n",
       "    .dataframe tbody tr th {\n",
       "        vertical-align: top;\n",
       "    }\n",
       "\n",
       "    .dataframe thead th {\n",
       "        text-align: right;\n",
       "    }\n",
       "</style>\n",
       "<table border=\"1\" class=\"dataframe\">\n",
       "  <thead>\n",
       "    <tr style=\"text-align: right;\">\n",
       "      <th></th>\n",
       "      <th>0</th>\n",
       "      <th>1</th>\n",
       "      <th>2</th>\n",
       "      <th>3</th>\n",
       "      <th>4</th>\n",
       "      <th>5</th>\n",
       "      <th>6</th>\n",
       "      <th>7</th>\n",
       "      <th>8</th>\n",
       "      <th>9</th>\n",
       "      <th>10</th>\n",
       "      <th>11</th>\n",
       "      <th>12</th>\n",
       "      <th>13</th>\n",
       "      <th>14</th>\n",
       "      <th>diagnosis</th>\n",
       "    </tr>\n",
       "  </thead>\n",
       "  <tbody>\n",
       "    <tr>\n",
       "      <td>19</td>\n",
       "      <td>191.621045</td>\n",
       "      <td>12.259178</td>\n",
       "      <td>-6.241020</td>\n",
       "      <td>-3.588034</td>\n",
       "      <td>6.692721</td>\n",
       "      <td>0.037497</td>\n",
       "      <td>0.336992</td>\n",
       "      <td>0.159502</td>\n",
       "      <td>-0.013716</td>\n",
       "      <td>0.010386</td>\n",
       "      <td>0.078203</td>\n",
       "      <td>-0.036511</td>\n",
       "      <td>-0.029271</td>\n",
       "      <td>-0.039346</td>\n",
       "      <td>-0.017123</td>\n",
       "      <td>B</td>\n",
       "    </tr>\n",
       "    <tr>\n",
       "      <td>20</td>\n",
       "      <td>285.051275</td>\n",
       "      <td>14.557362</td>\n",
       "      <td>-10.177971</td>\n",
       "      <td>-1.483015</td>\n",
       "      <td>5.828780</td>\n",
       "      <td>0.790474</td>\n",
       "      <td>0.080541</td>\n",
       "      <td>0.454472</td>\n",
       "      <td>-0.268240</td>\n",
       "      <td>0.092501</td>\n",
       "      <td>0.032368</td>\n",
       "      <td>0.122332</td>\n",
       "      <td>0.037006</td>\n",
       "      <td>0.000394</td>\n",
       "      <td>-0.017677</td>\n",
       "      <td>B</td>\n",
       "    </tr>\n",
       "    <tr>\n",
       "      <td>21</td>\n",
       "      <td>683.583952</td>\n",
       "      <td>-32.576126</td>\n",
       "      <td>15.095343</td>\n",
       "      <td>-12.576780</td>\n",
       "      <td>1.707262</td>\n",
       "      <td>-1.104473</td>\n",
       "      <td>-0.309995</td>\n",
       "      <td>-0.328012</td>\n",
       "      <td>-0.135464</td>\n",
       "      <td>-0.232627</td>\n",
       "      <td>-0.039800</td>\n",
       "      <td>0.013665</td>\n",
       "      <td>-0.016789</td>\n",
       "      <td>0.007654</td>\n",
       "      <td>0.010671</td>\n",
       "      <td>B</td>\n",
       "    </tr>\n",
       "    <tr>\n",
       "      <td>37</td>\n",
       "      <td>355.877850</td>\n",
       "      <td>61.535566</td>\n",
       "      <td>-6.242785</td>\n",
       "      <td>-4.970090</td>\n",
       "      <td>-3.076071</td>\n",
       "      <td>1.750950</td>\n",
       "      <td>-0.091251</td>\n",
       "      <td>-0.511769</td>\n",
       "      <td>-0.102631</td>\n",
       "      <td>1.011803</td>\n",
       "      <td>0.024114</td>\n",
       "      <td>-0.059378</td>\n",
       "      <td>-0.000325</td>\n",
       "      <td>0.018064</td>\n",
       "      <td>-0.035210</td>\n",
       "      <td>B</td>\n",
       "    </tr>\n",
       "    <tr>\n",
       "      <td>46</td>\n",
       "      <td>783.838668</td>\n",
       "      <td>-56.826556</td>\n",
       "      <td>13.657869</td>\n",
       "      <td>-10.929661</td>\n",
       "      <td>-7.112941</td>\n",
       "      <td>-2.742609</td>\n",
       "      <td>-0.747497</td>\n",
       "      <td>0.247352</td>\n",
       "      <td>-0.345514</td>\n",
       "      <td>-0.233113</td>\n",
       "      <td>-0.080757</td>\n",
       "      <td>0.095598</td>\n",
       "      <td>0.009075</td>\n",
       "      <td>-0.027129</td>\n",
       "      <td>-0.006755</td>\n",
       "      <td>B</td>\n",
       "    </tr>\n",
       "    <tr>\n",
       "      <td>...</td>\n",
       "      <td>...</td>\n",
       "      <td>...</td>\n",
       "      <td>...</td>\n",
       "      <td>...</td>\n",
       "      <td>...</td>\n",
       "      <td>...</td>\n",
       "      <td>...</td>\n",
       "      <td>...</td>\n",
       "      <td>...</td>\n",
       "      <td>...</td>\n",
       "      <td>...</td>\n",
       "      <td>...</td>\n",
       "      <td>...</td>\n",
       "      <td>...</td>\n",
       "      <td>...</td>\n",
       "      <td>...</td>\n",
       "    </tr>\n",
       "    <tr>\n",
       "      <td>499</td>\n",
       "      <td>-1099.486889</td>\n",
       "      <td>112.597421</td>\n",
       "      <td>-27.476067</td>\n",
       "      <td>-0.145937</td>\n",
       "      <td>-2.458353</td>\n",
       "      <td>-1.537728</td>\n",
       "      <td>1.274740</td>\n",
       "      <td>-0.224613</td>\n",
       "      <td>-0.469098</td>\n",
       "      <td>-0.102762</td>\n",
       "      <td>0.047910</td>\n",
       "      <td>0.093248</td>\n",
       "      <td>-0.100222</td>\n",
       "      <td>0.029009</td>\n",
       "      <td>0.056247</td>\n",
       "      <td>M</td>\n",
       "    </tr>\n",
       "    <tr>\n",
       "      <td>501</td>\n",
       "      <td>109.464701</td>\n",
       "      <td>-2.229269</td>\n",
       "      <td>3.854344</td>\n",
       "      <td>10.871600</td>\n",
       "      <td>-3.023712</td>\n",
       "      <td>2.215435</td>\n",
       "      <td>0.365275</td>\n",
       "      <td>0.020654</td>\n",
       "      <td>-0.201790</td>\n",
       "      <td>-0.171657</td>\n",
       "      <td>-0.100881</td>\n",
       "      <td>0.175142</td>\n",
       "      <td>0.032250</td>\n",
       "      <td>-0.029611</td>\n",
       "      <td>0.042311</td>\n",
       "      <td>M</td>\n",
       "    </tr>\n",
       "    <tr>\n",
       "      <td>503</td>\n",
       "      <td>-2166.185165</td>\n",
       "      <td>-108.422615</td>\n",
       "      <td>21.170655</td>\n",
       "      <td>-9.870265</td>\n",
       "      <td>4.600230</td>\n",
       "      <td>-6.029129</td>\n",
       "      <td>-3.231749</td>\n",
       "      <td>-0.385159</td>\n",
       "      <td>0.459618</td>\n",
       "      <td>0.086349</td>\n",
       "      <td>0.186573</td>\n",
       "      <td>-0.070107</td>\n",
       "      <td>0.065125</td>\n",
       "      <td>0.036807</td>\n",
       "      <td>0.019955</td>\n",
       "      <td>M</td>\n",
       "    </tr>\n",
       "    <tr>\n",
       "      <td>509</td>\n",
       "      <td>-64.596512</td>\n",
       "      <td>50.650874</td>\n",
       "      <td>-13.205191</td>\n",
       "      <td>13.519044</td>\n",
       "      <td>-3.370923</td>\n",
       "      <td>1.640083</td>\n",
       "      <td>2.685771</td>\n",
       "      <td>-0.600741</td>\n",
       "      <td>-0.693918</td>\n",
       "      <td>-0.225630</td>\n",
       "      <td>0.032308</td>\n",
       "      <td>-0.042296</td>\n",
       "      <td>-0.018556</td>\n",
       "      <td>0.033451</td>\n",
       "      <td>0.003069</td>\n",
       "      <td>M</td>\n",
       "    </tr>\n",
       "    <tr>\n",
       "      <td>512</td>\n",
       "      <td>81.753871</td>\n",
       "      <td>-65.157008</td>\n",
       "      <td>-2.878240</td>\n",
       "      <td>10.121694</td>\n",
       "      <td>4.231035</td>\n",
       "      <td>-1.561071</td>\n",
       "      <td>0.335364</td>\n",
       "      <td>0.303605</td>\n",
       "      <td>-0.151272</td>\n",
       "      <td>-0.183464</td>\n",
       "      <td>0.011138</td>\n",
       "      <td>-0.013619</td>\n",
       "      <td>-0.058982</td>\n",
       "      <td>-0.046188</td>\n",
       "      <td>0.004539</td>\n",
       "      <td>M</td>\n",
       "    </tr>\n",
       "  </tbody>\n",
       "</table>\n",
       "<p>398 rows × 16 columns</p>\n",
       "</div>"
      ],
      "text/plain": [
       "               0           1          2          3         4         5  \\\n",
       "19    191.621045   12.259178  -6.241020  -3.588034  6.692721  0.037497   \n",
       "20    285.051275   14.557362 -10.177971  -1.483015  5.828780  0.790474   \n",
       "21    683.583952  -32.576126  15.095343 -12.576780  1.707262 -1.104473   \n",
       "37    355.877850   61.535566  -6.242785  -4.970090 -3.076071  1.750950   \n",
       "46    783.838668  -56.826556  13.657869 -10.929661 -7.112941 -2.742609   \n",
       "..           ...         ...        ...        ...       ...       ...   \n",
       "499 -1099.486889  112.597421 -27.476067  -0.145937 -2.458353 -1.537728   \n",
       "501   109.464701   -2.229269   3.854344  10.871600 -3.023712  2.215435   \n",
       "503 -2166.185165 -108.422615  21.170655  -9.870265  4.600230 -6.029129   \n",
       "509   -64.596512   50.650874 -13.205191  13.519044 -3.370923  1.640083   \n",
       "512    81.753871  -65.157008  -2.878240  10.121694  4.231035 -1.561071   \n",
       "\n",
       "            6         7         8         9        10        11        12  \\\n",
       "19   0.336992  0.159502 -0.013716  0.010386  0.078203 -0.036511 -0.029271   \n",
       "20   0.080541  0.454472 -0.268240  0.092501  0.032368  0.122332  0.037006   \n",
       "21  -0.309995 -0.328012 -0.135464 -0.232627 -0.039800  0.013665 -0.016789   \n",
       "37  -0.091251 -0.511769 -0.102631  1.011803  0.024114 -0.059378 -0.000325   \n",
       "46  -0.747497  0.247352 -0.345514 -0.233113 -0.080757  0.095598  0.009075   \n",
       "..        ...       ...       ...       ...       ...       ...       ...   \n",
       "499  1.274740 -0.224613 -0.469098 -0.102762  0.047910  0.093248 -0.100222   \n",
       "501  0.365275  0.020654 -0.201790 -0.171657 -0.100881  0.175142  0.032250   \n",
       "503 -3.231749 -0.385159  0.459618  0.086349  0.186573 -0.070107  0.065125   \n",
       "509  2.685771 -0.600741 -0.693918 -0.225630  0.032308 -0.042296 -0.018556   \n",
       "512  0.335364  0.303605 -0.151272 -0.183464  0.011138 -0.013619 -0.058982   \n",
       "\n",
       "           13        14 diagnosis  \n",
       "19  -0.039346 -0.017123         B  \n",
       "20   0.000394 -0.017677         B  \n",
       "21   0.007654  0.010671         B  \n",
       "37   0.018064 -0.035210         B  \n",
       "46  -0.027129 -0.006755         B  \n",
       "..        ...       ...       ...  \n",
       "499  0.029009  0.056247         M  \n",
       "501 -0.029611  0.042311         M  \n",
       "503  0.036807  0.019955         M  \n",
       "509  0.033451  0.003069         M  \n",
       "512 -0.046188  0.004539         M  \n",
       "\n",
       "[398 rows x 16 columns]"
      ]
     },
     "execution_count": 40,
     "metadata": {},
     "output_type": "execute_result"
    }
   ],
   "source": [
    "training_data"
   ]
  },
  {
   "cell_type": "code",
   "execution_count": 41,
   "metadata": {
    "id": "V2l_5WK2KFdE"
   },
   "outputs": [],
   "source": [
    "cv_data_len = int(0.2*data.shape[0])"
   ]
  },
  {
   "cell_type": "code",
   "execution_count": 42,
   "metadata": {
    "colab": {
     "base_uri": "https://localhost:8080/"
    },
    "id": "fhhvcqsnKfjt",
    "outputId": "0f36acc4-6814-4e6a-b188-679ba4fc26bb"
   },
   "outputs": [
    {
     "data": {
      "text/plain": [
       "113"
      ]
     },
     "execution_count": 42,
     "metadata": {},
     "output_type": "execute_result"
    }
   ],
   "source": [
    "cv_data_len"
   ]
  },
  {
   "cell_type": "code",
   "execution_count": 43,
   "metadata": {
    "id": "nUbKtZ7PKhPZ"
   },
   "outputs": [],
   "source": [
    "benign_remaining_data = new_data[new_data['diagnosis'] == 'B'].iloc[training_data_len//2:]\n",
    "malignent_remaining_data =  new_data[new_data['diagnosis'] == 'M'].iloc[training_data_len//2:]"
   ]
  },
  {
   "cell_type": "code",
   "execution_count": 44,
   "metadata": {
    "colab": {
     "base_uri": "https://localhost:8080/"
    },
    "id": "k8yfqK8YK_ta",
    "outputId": "9814528d-2499-455d-ab6c-7574fbe2b9b4"
   },
   "outputs": [
    {
     "data": {
      "text/plain": [
       "(158, 16)"
      ]
     },
     "execution_count": 44,
     "metadata": {},
     "output_type": "execute_result"
    }
   ],
   "source": [
    "benign_remaining_data.shape"
   ]
  },
  {
   "cell_type": "code",
   "execution_count": 45,
   "metadata": {
    "colab": {
     "base_uri": "https://localhost:8080/"
    },
    "id": "th-cxDDaLE3-",
    "outputId": "85947357-5478-4b8d-e923-63353b07a266"
   },
   "outputs": [
    {
     "data": {
      "text/plain": [
       "(13, 16)"
      ]
     },
     "execution_count": 45,
     "metadata": {},
     "output_type": "execute_result"
    }
   ],
   "source": [
    "malignent_remaining_data.shape"
   ]
  },
  {
   "cell_type": "code",
   "execution_count": 46,
   "metadata": {
    "id": "5ovi_6OjLGmu"
   },
   "outputs": [],
   "source": [
    "remaining_data = pd.concat([benign_remaining_data,malignent_remaining_data])"
   ]
  },
  {
   "cell_type": "code",
   "execution_count": 47,
   "metadata": {
    "colab": {
     "base_uri": "https://localhost:8080/"
    },
    "id": "lOg3WSu0LnZh",
    "outputId": "54ab2f17-5386-4d29-f6f0-89cd3c9f1f13"
   },
   "outputs": [
    {
     "data": {
      "text/plain": [
       "(171, 16)"
      ]
     },
     "execution_count": 47,
     "metadata": {},
     "output_type": "execute_result"
    }
   ],
   "source": [
    "remaining_data.shape"
   ]
  },
  {
   "cell_type": "code",
   "execution_count": 48,
   "metadata": {
    "id": "CvTIoeG8Lxty"
   },
   "outputs": [],
   "source": [
    "cv_data = remaining_data.iloc[0:cv_data_len]\n",
    "testing_data = remaining_data.iloc[cv_data_len:]"
   ]
  },
  {
   "cell_type": "code",
   "execution_count": 49,
   "metadata": {
    "colab": {
     "base_uri": "https://localhost:8080/"
    },
    "id": "H_OI-aIEMF4R",
    "outputId": "8d9a7218-17a3-41c7-e1e0-9fd18fc3f26e"
   },
   "outputs": [
    {
     "data": {
      "text/plain": [
       "(113, 16)"
      ]
     },
     "execution_count": 49,
     "metadata": {},
     "output_type": "execute_result"
    }
   ],
   "source": [
    "cv_data.shape"
   ]
  },
  {
   "cell_type": "code",
   "execution_count": 50,
   "metadata": {
    "colab": {
     "base_uri": "https://localhost:8080/"
    },
    "id": "-FVOQG5YMHFd",
    "outputId": "69e29139-5b0c-4ec7-a8f3-1c88840481f4"
   },
   "outputs": [
    {
     "data": {
      "text/plain": [
       "(58, 16)"
      ]
     },
     "execution_count": 50,
     "metadata": {},
     "output_type": "execute_result"
    }
   ],
   "source": [
    "testing_data.shape"
   ]
  },
  {
   "cell_type": "markdown",
   "metadata": {
    "id": "Uau-yLI2Mzum"
   },
   "source": [
    "So now we need to evaluate the following probability:\n",
    "\n",
    "\\begin{equation}\n",
    "P(Diagnosis = M | radius mean = x) = P(radius mean = x | Diagnosis  M) P(texture mean = y | Diagnosis = M) P(Diagnosis = M)\n",
    "\\end{equation}\n",
    "\n",
    "Now, in order to evaluate the likelihood probability P(radius mean = X | Diagnosis = M) P(texture mean = y | Diagnosis = M) which is given by **Multivariate Joint Gausssian Distribution PDF**.\n",
    "Now for this PDF, we need to find out the best estimate of the parameters of **Multivariate joint Normal Distribution** because we are assuming that our Malignent tumor training data is being sampled from a multivariate Joint Normal (Gaussian) Distribution. The two parameters will be namely: **mu_hat_m and sigma_hat_m**"
   ]
  },
  {
   "cell_type": "code",
   "execution_count": 51,
   "metadata": {
    "id": "i5JnHjDsM0Ve"
   },
   "outputs": [],
   "source": [
    "mu_hat_m = np.array(training_data[training_data['diagnosis'] == 'M'].iloc[:,0:15].mean())\n",
    "\n",
    "sigma_hat_m = np.array(training_data[training_data['diagnosis'] == 'M'].iloc[:,0:15].cov())"
   ]
  },
  {
   "cell_type": "code",
   "execution_count": 52,
   "metadata": {
    "colab": {
     "base_uri": "https://localhost:8080/"
    },
    "id": "dtuqCst4NExk",
    "outputId": "fb6ec18d-5de9-4a70-c180-dd94fe0259a4"
   },
   "outputs": [
    {
     "data": {
      "text/plain": [
       "array([-6.19149059e+02, -9.10604406e+00, -3.00251408e+00,  3.21867937e+00,\n",
       "        6.62722209e-01, -1.49641755e-03,  1.33728677e-01, -6.56051800e-03,\n",
       "        4.44266350e-02, -2.27845949e-02, -5.28254216e-02,  2.13821710e-03,\n",
       "        2.13592658e-03, -4.87610367e-03,  1.12627757e-04])"
      ]
     },
     "execution_count": 52,
     "metadata": {},
     "output_type": "execute_result"
    }
   ],
   "source": [
    "mu_hat_m"
   ]
  },
  {
   "cell_type": "code",
   "execution_count": 53,
   "metadata": {
    "colab": {
     "base_uri": "https://localhost:8080/"
    },
    "id": "UnUsytbCNGTI",
    "outputId": "1e9e2123-e72d-4118-f061-b69de155075d"
   },
   "outputs": [
    {
     "data": {
      "text/plain": [
       "19723.271206451547"
      ]
     },
     "execution_count": 53,
     "metadata": {},
     "output_type": "execute_result"
    }
   ],
   "source": [
    "np.linalg.det(sigma_hat_m)"
   ]
  },
  {
   "cell_type": "code",
   "execution_count": 54,
   "metadata": {
    "colab": {
     "base_uri": "https://localhost:8080/"
    },
    "id": "SzIfoIR-lDjg",
    "outputId": "4c611831-05de-4b5e-d7bd-bde1690f78e2"
   },
   "outputs": [
    {
     "data": {
      "text/plain": [
       "array([4.83251406e+05, 1.80244546e+04, 1.71425537e+03, 7.92821249e+01,\n",
       "       4.99687724e+01, 4.96625902e+00, 2.33253962e+00, 5.72687305e-01,\n",
       "       3.00085039e-01, 8.46220743e-02, 4.76165511e-02, 1.09368344e-02,\n",
       "       5.88573773e-03, 3.24464641e-03, 2.37829604e-03])"
      ]
     },
     "execution_count": 54,
     "metadata": {},
     "output_type": "execute_result"
    }
   ],
   "source": [
    "sigma_hat_m.diagonal()"
   ]
  },
  {
   "cell_type": "code",
   "execution_count": 55,
   "metadata": {
    "colab": {
     "base_uri": "https://localhost:8080/"
    },
    "id": "MmdqYY2ElLd2",
    "outputId": "38fc8aa1-696c-409e-db81-048a6f79e8ff"
   },
   "outputs": [
    {
     "data": {
      "text/plain": [
       "(15, 15)"
      ]
     },
     "execution_count": 55,
     "metadata": {},
     "output_type": "execute_result"
    }
   ],
   "source": [
    "sigma_hat_m.shape"
   ]
  },
  {
   "cell_type": "code",
   "execution_count": 56,
   "metadata": {
    "id": "GqZueHZXNH8J"
   },
   "outputs": [],
   "source": [
    "malignent_prior = training_data[training_data['diagnosis'] == 'M'].shape[0]/training_data.shape[0]"
   ]
  },
  {
   "cell_type": "markdown",
   "metadata": {
    "id": "DezXPBVYNYr8"
   },
   "source": [
    "So now we need to evaluate the following probability:\n",
    "\n",
    "\\begin{equation}\n",
    "P(Diagnosis = B | radius mean = x) = P(radius mean = x | Diagnosis  B) P(texture mean = y | Diagnosis = B) P(Diagnosis = B)\n",
    "\\end{equation}\n",
    "\n",
    "Now, in order to evaluate the likelihood probability P(radius mean = X | Diagnosis = B) P(texture mean = y | Diagnosis = B) which is given by **Multivariate Joint Gausssian Distribution PDF**.\n",
    "Now for this PDF, we need to find out the best estimate of the parameters of **Multivariate joint Normal Distribution** because we are assuming that our benign tumor training data is being sampled from a multivariate Joint Normal (Gaussian) Distribution. The two parameters will be namely: **mu_hat_b and sigma_hat_b**"
   ]
  },
  {
   "cell_type": "code",
   "execution_count": 57,
   "metadata": {
    "id": "OfEi7hHBNZHs"
   },
   "outputs": [],
   "source": [
    "mu_hat_b = np.array(training_data[training_data['diagnosis'] == 'B'].iloc[:,0:15].mean())\n",
    "\n",
    "sigma_hat_b = np.array(training_data[training_data['diagnosis'] == 'B'].iloc[:,0:15].cov())"
   ]
  },
  {
   "cell_type": "code",
   "execution_count": 58,
   "metadata": {
    "colab": {
     "base_uri": "https://localhost:8080/"
    },
    "id": "V3yZVoq9NkYg",
    "outputId": "edb069b6-0592-471b-8ce2-c867912303fb"
   },
   "outputs": [
    {
     "data": {
      "text/plain": [
       "array([ 3.97528379e+02,  9.06204470e-01,  3.54739985e+00, -3.13352427e+00,\n",
       "        3.79908894e-01,  4.33533255e-02, -2.13645508e-02, -4.14581153e-02,\n",
       "       -1.31463250e-02,  1.36211788e-02,  2.10626089e-02, -1.23645051e-03,\n",
       "       -1.94878048e-03, -1.52977374e-03,  1.01138045e-03])"
      ]
     },
     "execution_count": 58,
     "metadata": {},
     "output_type": "execute_result"
    }
   ],
   "source": [
    "mu_hat_b"
   ]
  },
  {
   "cell_type": "code",
   "execution_count": 59,
   "metadata": {
    "colab": {
     "base_uri": "https://localhost:8080/"
    },
    "id": "hp4Nlb97lYQR",
    "outputId": "813755da-323f-4671-fc77-245f16de17c5"
   },
   "outputs": [
    {
     "data": {
      "text/plain": [
       "1.8304458896877537e-06"
      ]
     },
     "execution_count": 59,
     "metadata": {},
     "output_type": "execute_result"
    }
   ],
   "source": [
    "np.linalg.det(sigma_hat_b)"
   ]
  },
  {
   "cell_type": "code",
   "execution_count": 60,
   "metadata": {
    "colab": {
     "base_uri": "https://localhost:8080/"
    },
    "id": "aKQxAh_QOlRu",
    "outputId": "344b7825-3632-4c26-c9be-f6d4e0e23f92"
   },
   "outputs": [
    {
     "data": {
      "text/plain": [
       "(15, 15)"
      ]
     },
     "execution_count": 60,
     "metadata": {},
     "output_type": "execute_result"
    }
   ],
   "source": [
    "sigma_hat_b.shape"
   ]
  },
  {
   "cell_type": "code",
   "execution_count": 61,
   "metadata": {
    "colab": {
     "base_uri": "https://localhost:8080/"
    },
    "id": "dRauX9IRlUy2",
    "outputId": "62a1b8db-bf22-4ff2-dccb-e55117277536"
   },
   "outputs": [
    {
     "data": {
      "text/plain": [
       "array([3.93448586e+04, 1.18379962e+03, 1.40075464e+02, 2.47387277e+01,\n",
       "       2.65583990e+01, 1.70909441e+00, 1.36650566e+00, 2.70243150e-01,\n",
       "       6.55623830e-02, 9.32803276e-02, 2.61349867e-02, 6.33739713e-03,\n",
       "       2.01105944e-03, 1.86785462e-03, 8.75868974e-04])"
      ]
     },
     "execution_count": 61,
     "metadata": {},
     "output_type": "execute_result"
    }
   ],
   "source": [
    "sigma_hat_b.diagonal()"
   ]
  },
  {
   "cell_type": "code",
   "execution_count": 62,
   "metadata": {
    "id": "DturiHHLO1B-"
   },
   "outputs": [],
   "source": [
    "benign_prior = training_data[training_data['diagnosis'] == 'B'].shape[0]/training_data.shape[0]"
   ]
  },
  {
   "cell_type": "code",
   "execution_count": 65,
   "metadata": {
    "id": "UVzy7NahO-NO"
   },
   "outputs": [],
   "source": [
    "def mock_test(data):\n",
    "  \n",
    "  inputs = np.array(data.iloc[:,0:15])\n",
    "\n",
    "  posterior_m = s.multivariate_normal.pdf(inputs,mu_hat_m,sigma_hat_m) * malignent_prior\n",
    "\n",
    "  posterior_b = s.multivariate_normal.pdf(inputs,mu_hat_b,sigma_hat_b) * benign_prior\n",
    "\n",
    "  boolean_mask = posterior_m > posterior_b\n",
    "  \n",
    "  predicted_category = pd.Series(boolean_mask)\n",
    "\n",
    "  predicted_category.replace(to_replace=[False,True],value=['B','M'],inplace=True)\n",
    "  \n",
    "  return np.array(predicted_category)"
   ]
  },
  {
   "cell_type": "code",
   "execution_count": 66,
   "metadata": {
    "id": "JWsn1NY0PGE8"
   },
   "outputs": [],
   "source": [
    "cv_results = mock_test(cv_data)"
   ]
  },
  {
   "cell_type": "code",
   "execution_count": 67,
   "metadata": {
    "id": "ZXk9xQ9jPOHn"
   },
   "outputs": [],
   "source": [
    "actual_results = np.array(cv_data['diagnosis'])"
   ]
  },
  {
   "cell_type": "code",
   "execution_count": 68,
   "metadata": {
    "id": "a2oHIbt9Ppm0"
   },
   "outputs": [],
   "source": [
    "boolean_mask = cv_results == actual_results"
   ]
  },
  {
   "cell_type": "code",
   "execution_count": 69,
   "metadata": {
    "colab": {
     "base_uri": "https://localhost:8080/"
    },
    "id": "pczgnfQjPt0X",
    "outputId": "14c07b7d-ff06-4133-9ace-22227060da54"
   },
   "outputs": [
    {
     "data": {
      "text/plain": [
       "array([ True,  True,  True, False,  True,  True,  True,  True, False,\n",
       "        True,  True,  True,  True,  True,  True,  True,  True,  True,\n",
       "        True,  True,  True,  True,  True,  True,  True,  True,  True,\n",
       "        True,  True,  True,  True,  True,  True,  True,  True,  True,\n",
       "        True,  True,  True,  True,  True,  True,  True,  True,  True,\n",
       "       False,  True,  True,  True,  True,  True,  True,  True,  True,\n",
       "        True,  True,  True,  True,  True,  True, False,  True,  True,\n",
       "        True,  True,  True,  True,  True,  True,  True,  True,  True,\n",
       "        True,  True,  True,  True,  True,  True, False,  True,  True,\n",
       "        True,  True,  True,  True,  True,  True,  True,  True,  True,\n",
       "        True,  True,  True,  True,  True,  True, False,  True,  True,\n",
       "        True, False,  True,  True,  True,  True,  True,  True,  True,\n",
       "        True,  True,  True,  True, False])"
      ]
     },
     "execution_count": 69,
     "metadata": {},
     "output_type": "execute_result"
    }
   ],
   "source": [
    "boolean_mask"
   ]
  },
  {
   "cell_type": "code",
   "execution_count": 70,
   "metadata": {
    "id": "idKCqaYGPweI"
   },
   "outputs": [],
   "source": [
    "cv_accuracy = np.count_nonzero(boolean_mask)/boolean_mask.shape[0]"
   ]
  },
  {
   "cell_type": "code",
   "execution_count": 71,
   "metadata": {
    "colab": {
     "base_uri": "https://localhost:8080/"
    },
    "id": "MDcO6MvLPz3F",
    "outputId": "819171ee-00e3-4cd6-c237-d27205f5c4ee"
   },
   "outputs": [
    {
     "data": {
      "text/plain": [
       "0.9292035398230089"
      ]
     },
     "execution_count": 71,
     "metadata": {},
     "output_type": "execute_result"
    }
   ],
   "source": [
    "cv_accuracy"
   ]
  },
  {
   "cell_type": "code",
   "execution_count": 72,
   "metadata": {
    "id": "Z-n_8DOnP2WL"
   },
   "outputs": [],
   "source": [
    "testing_results = mock_test(testing_data)"
   ]
  },
  {
   "cell_type": "code",
   "execution_count": 73,
   "metadata": {
    "colab": {
     "base_uri": "https://localhost:8080/"
    },
    "id": "Q4fPSOc8CsYx",
    "outputId": "aefba553-edc9-4689-c69e-85df81fdb2a4"
   },
   "outputs": [
    {
     "data": {
      "text/plain": [
       "array(['B', 'B', 'B', 'B', 'B', 'B', 'B', 'B', 'B', 'B', 'B', 'B', 'B',\n",
       "       'B', 'B', 'B', 'B', 'B', 'B', 'B', 'B', 'B', 'B', 'B', 'B', 'B',\n",
       "       'B', 'B', 'B', 'B', 'B', 'B', 'B', 'B', 'B', 'B', 'B', 'B', 'B',\n",
       "       'B', 'B', 'B', 'B', 'B', 'B', 'M', 'M', 'M', 'M', 'M', 'M', 'B',\n",
       "       'M', 'M', 'M', 'M', 'M', 'M'], dtype=object)"
      ]
     },
     "execution_count": 73,
     "metadata": {},
     "output_type": "execute_result"
    }
   ],
   "source": [
    "testing_results"
   ]
  },
  {
   "cell_type": "code",
   "execution_count": 74,
   "metadata": {
    "id": "umIPulSdQYRl"
   },
   "outputs": [],
   "source": [
    "actual_results = np.array(testing_data['diagnosis'])"
   ]
  },
  {
   "cell_type": "code",
   "execution_count": 75,
   "metadata": {
    "colab": {
     "base_uri": "https://localhost:8080/"
    },
    "id": "eKcEzdnnQbgM",
    "outputId": "fe060f67-915a-4ce4-d83f-b827eb29807d"
   },
   "outputs": [
    {
     "data": {
      "text/plain": [
       "array(['B', 'B', 'B', 'B', 'B', 'B', 'B', 'B', 'B', 'B', 'B', 'B', 'B',\n",
       "       'B', 'B', 'B', 'B', 'B', 'B', 'B', 'B', 'B', 'B', 'B', 'B', 'B',\n",
       "       'B', 'B', 'B', 'B', 'B', 'B', 'B', 'B', 'B', 'B', 'B', 'B', 'B',\n",
       "       'B', 'B', 'B', 'B', 'B', 'B', 'M', 'M', 'M', 'M', 'M', 'M', 'M',\n",
       "       'M', 'M', 'M', 'M', 'M', 'M'], dtype=object)"
      ]
     },
     "execution_count": 75,
     "metadata": {},
     "output_type": "execute_result"
    }
   ],
   "source": [
    "actual_results"
   ]
  },
  {
   "cell_type": "code",
   "execution_count": 76,
   "metadata": {
    "id": "5Gl1_LISP6-_"
   },
   "outputs": [],
   "source": [
    "testing_accuracy = np.count_nonzero(testing_results == actual_results)/actual_results.shape[0]"
   ]
  },
  {
   "cell_type": "code",
   "execution_count": 77,
   "metadata": {
    "colab": {
     "base_uri": "https://localhost:8080/"
    },
    "id": "uBlcerUPQCEC",
    "outputId": "c46bbc0b-6288-4f24-8923-75363300a9c5"
   },
   "outputs": [
    {
     "data": {
      "text/plain": [
       "0.9827586206896551"
      ]
     },
     "execution_count": 77,
     "metadata": {},
     "output_type": "execute_result"
    }
   ],
   "source": [
    "testing_accuracy"
   ]
  },
  {
   "cell_type": "code",
   "execution_count": null,
   "metadata": {
    "id": "XqVF1juSQKR0"
   },
   "outputs": [],
   "source": []
  }
 ],
 "metadata": {
  "colab": {
   "collapsed_sections": [],
   "name": "implementation of naive bayes classification(for full data set) code from scratch.ipynb",
   "provenance": []
  },
  "kernelspec": {
   "display_name": "Python 3",
   "language": "python",
   "name": "python3"
  },
  "language_info": {
   "codemirror_mode": {
    "name": "ipython",
    "version": 3
   },
   "file_extension": ".py",
   "mimetype": "text/x-python",
   "name": "python",
   "nbconvert_exporter": "python",
   "pygments_lexer": "ipython3",
   "version": "3.7.4"
  },
  "latex_envs": {
   "LaTeX_envs_menu_present": true,
   "autoclose": false,
   "autocomplete": true,
   "bibliofile": "biblio.bib",
   "cite_by": "apalike",
   "current_citInitial": 1,
   "eqLabelWithNumbers": true,
   "eqNumInitial": 1,
   "hotkeys": {
    "equation": "Ctrl-E",
    "itemize": "Ctrl-I"
   },
   "labels_anchors": false,
   "latex_user_defs": false,
   "report_style_numbering": false,
   "user_envs_cfg": false
  },
  "toc": {
   "base_numbering": 1,
   "nav_menu": {},
   "number_sections": true,
   "sideBar": true,
   "skip_h1_title": false,
   "title_cell": "Table of Contents",
   "title_sidebar": "Contents",
   "toc_cell": false,
   "toc_position": {},
   "toc_section_display": true,
   "toc_window_display": false
  }
 },
 "nbformat": 4,
 "nbformat_minor": 1
}
